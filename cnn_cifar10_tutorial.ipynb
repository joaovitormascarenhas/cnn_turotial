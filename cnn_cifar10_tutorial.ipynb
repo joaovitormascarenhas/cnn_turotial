{
  "nbformat": 4,
  "nbformat_minor": 0,
  "metadata": {
    "colab": {
      "name": "cnn_cifar10_tutorial.ipynb",
      "version": "0.3.2",
      "provenance": [],
      "include_colab_link": true
    },
    "language_info": {
      "codemirror_mode": {
        "name": "ipython",
        "version": 3
      },
      "file_extension": ".py",
      "mimetype": "text/x-python",
      "name": "python",
      "nbconvert_exporter": "python",
      "pygments_lexer": "ipython3",
      "version": "3.6.4"
    },
    "kernelspec": {
      "display_name": "Python 3",
      "language": "python",
      "name": "python3"
    }
  },
  "cells": [
    {
      "cell_type": "markdown",
      "metadata": {
        "id": "view-in-github",
        "colab_type": "text"
      },
      "source": [
        "<a href=\"https://colab.research.google.com/github/joaovitormascarenhas/cnn_tutorial/blob/master/cnn_cifar10_tutorial.ipynb\" target=\"_parent\"><img src=\"https://colab.research.google.com/assets/colab-badge.svg\" alt=\"Open In Colab\"/></a>"
      ]
    },
    {
      "cell_type": "markdown",
      "metadata": {
        "id": "6rPiUBxsDMJ4",
        "colab_type": "text"
      },
      "source": [
        "## Intro ConvNets e PyTorch\n",
        "\n",
        "---\n",
        "\n",
        "\n",
        "\n"
      ]
    },
    {
      "cell_type": "code",
      "metadata": {
        "id": "lB93u0z4xeAp",
        "colab_type": "code",
        "colab": {}
      },
      "source": [
        "%matplotlib inline"
      ],
      "execution_count": 0,
      "outputs": []
    },
    {
      "cell_type": "markdown",
      "metadata": {
        "id": "dTXBBdZRxeA0",
        "colab_type": "text"
      },
      "source": [
        "## Exemplo: Classificação de Imagens\n",
        "\n",
        "Vamos aprender a implementar os seguintes passos:\n",
        "\n",
        "1. Carregar e normalizar o conjunto de dados CIFAR10\n",
        "2. Definir a estrutura de uma Rede Neural Convolucional\n",
        "3. Definir um loop de treinamento\n",
        "4. Treinar e testar a Rede Neural\n",
        "\n"
      ]
    },
    {
      "cell_type": "markdown",
      "metadata": {
        "id": "v1s7UAs0xeA1",
        "colab_type": "text"
      },
      "source": [
        "## Carregar e normalizar o conjunto de dados CIFAR10"
      ]
    },
    {
      "cell_type": "code",
      "metadata": {
        "id": "_EMYEWDrxeA2",
        "colab_type": "code",
        "colab": {}
      },
      "source": [
        "import torch\n",
        "import torchvision\n",
        "import torchvision.transforms as transforms"
      ],
      "execution_count": 0,
      "outputs": []
    },
    {
      "cell_type": "code",
      "metadata": {
        "id": "yi9H8wu3xeA5",
        "colab_type": "code",
        "colab": {}
      },
      "source": [
        "transform = transforms.Compose(\n",
        "    [transforms.ToTensor(),\n",
        "     transforms.Normalize((0.5, 0.5, 0.5), (0.5, 0.5, 0.5))])\n",
        "\n",
        "trainset = torchvision.datasets.CIFAR10(root='./data', train=True,\n",
        "                                        download=True, transform=transform)\n",
        "trainloader = torch.utils.data.DataLoader(trainset, batch_size=4,\n",
        "                                          shuffle=True, num_workers=2)\n",
        "\n",
        "testset = torchvision.datasets.CIFAR10(root='./data', train=False,\n",
        "                                       download=True, transform=transform)\n",
        "testloader = torch.utils.data.DataLoader(testset, batch_size=4,\n",
        "                                         shuffle=False, num_workers=2)\n",
        "\n",
        "classes = ('plane', 'car', 'bird', 'cat',\n",
        "           'deer', 'dog', 'frog', 'horse', 'ship', 'truck')"
      ],
      "execution_count": 0,
      "outputs": []
    },
    {
      "cell_type": "markdown",
      "metadata": {
        "id": "jtToOOtexeA-",
        "colab_type": "text"
      },
      "source": [
        "### Exibindo algumas imagens do conjunto de dados\n",
        "<img src=\"https://github.com/jjviana/QConSP2018/blob/master/cifar10.png?raw=1\" >"
      ]
    },
    {
      "cell_type": "code",
      "metadata": {
        "id": "RD2see1KxeA_",
        "colab_type": "code",
        "colab": {}
      },
      "source": [
        "import matplotlib.pyplot as plt\n",
        "import numpy as np\n",
        "\n",
        "# functions to show an image\n",
        "\n",
        "\n",
        "def imshow(img):\n",
        "    img = img / 2 + 0.5     # unnormalize\n",
        "    npimg = img.numpy()\n",
        "    plt.imshow(np.transpose(npimg, (1, 2, 0)))\n",
        "\n",
        "\n",
        "# get some random training images\n",
        "dataiter = iter(trainloader)\n",
        "images, labels = dataiter.next()\n",
        "\n",
        "# show images\n",
        "imshow(torchvision.utils.make_grid(images))\n",
        "# print labels\n",
        "print(' '.join('%10s' % classes[labels[j]] for j in range(4)))"
      ],
      "execution_count": 0,
      "outputs": []
    },
    {
      "cell_type": "markdown",
      "metadata": {
        "id": "iIPTsjaQxeBC",
        "colab_type": "text"
      },
      "source": [
        "## Definindo a estrutura da Rede Neural\n",
        "\n",
        "<img src=\"https://github.com/jjviana/QConSP2018/blob/master/cifar10network.png?raw=1\">"
      ]
    },
    {
      "cell_type": "code",
      "metadata": {
        "id": "ZTXrV1upxeBD",
        "colab_type": "code",
        "colab": {}
      },
      "source": [
        "import torch.nn as nn\n",
        "import torch.nn.functional as F\n",
        "\n",
        "\n",
        "class Net(nn.Module):\n",
        "    def __init__(self):\n",
        "        super(Net, self).__init__()\n",
        "        self.conv1 = nn.Conv2d(3, 6, 5)\n",
        "        self.pool = nn.MaxPool2d(2, 2)\n",
        "        self.conv2 = nn.Conv2d(6, 16, 5)\n",
        "        self.fc1 = nn.Linear(16 * 5 * 5, 120)\n",
        "        self.fc2 = nn.Linear(120, 84)\n",
        "        self.fc3 = nn.Linear(84, 10)\n",
        "\n",
        "    def forward(self, x):\n",
        "        x = self.pool(F.relu(self.conv1(x)))\n",
        "        x = self.pool(F.relu(self.conv2(x)))\n",
        "        x = x.view(-1, 16 * 5 * 5)\n",
        "        x = F.relu(self.fc1(x))\n",
        "        x = F.relu(self.fc2(x))\n",
        "        x = self.fc3(x)\n",
        "        return x\n",
        "\n",
        "\n",
        "net = Net()"
      ],
      "execution_count": 0,
      "outputs": []
    },
    {
      "cell_type": "markdown",
      "metadata": {
        "id": "n9juGb-TxeBF",
        "colab_type": "text"
      },
      "source": [
        "## Função de perda e otimizador"
      ]
    },
    {
      "cell_type": "code",
      "metadata": {
        "id": "fkHcUrcXxeBF",
        "colab_type": "code",
        "colab": {}
      },
      "source": [
        "import torch.optim as optim\n",
        "\n",
        "criterion = nn.CrossEntropyLoss()\n",
        "optimizer = optim.SGD(net.parameters(), lr=0.001, momentum=0.9)"
      ],
      "execution_count": 0,
      "outputs": []
    },
    {
      "cell_type": "markdown",
      "metadata": {
        "id": "zcDnGOMkxeBM",
        "colab_type": "text"
      },
      "source": [
        "### Loop de Treino\n"
      ]
    },
    {
      "cell_type": "code",
      "metadata": {
        "id": "gjka5OXsxeBN",
        "colab_type": "code",
        "colab": {}
      },
      "source": [
        "for epoch in range(2): \n",
        "\n",
        "    running_loss = 0.0\n",
        "    for i, data in enumerate(trainloader, 0):\n",
        "        \n",
        "        #Forward\n",
        "        inputs, labels = data\n",
        "        outputs = net(inputs)\n",
        "        \n",
        "        #Backward\n",
        "        optimizer.zero_grad()\n",
        "        loss = criterion(outputs, labels)\n",
        "        loss.backward()\n",
        "        \n",
        "        # Optimize\n",
        "        optimizer.step()\n",
        "\n",
        "        # print statistics\n",
        "        running_loss += loss.item()\n",
        "        if i % 2000 == 1999:    # print every 2000 mini-batches\n",
        "            print('[%d, %5d] loss: %.3f' %\n",
        "                  (epoch + 1, i + 1, running_loss / 2000))\n",
        "            running_loss = 0.0\n",
        "\n",
        "print('Finished Training')"
      ],
      "execution_count": 0,
      "outputs": []
    },
    {
      "cell_type": "code",
      "metadata": {
        "id": "7yh8X_SPxeBQ",
        "colab_type": "code",
        "colab": {}
      },
      "source": [
        "#torch.save(net.state_dict(),'cifar10.dat')\n",
        "net.load_state_dict(torch.load('cifar10.dat'))"
      ],
      "execution_count": 0,
      "outputs": []
    },
    {
      "cell_type": "markdown",
      "metadata": {
        "id": "U6Eckk0hxeBS",
        "colab_type": "text"
      },
      "source": [
        "## Testando o modelo\n",
        "\n",
        "### Algumas imagens:\n"
      ]
    },
    {
      "cell_type": "code",
      "metadata": {
        "id": "ETyNP5cWxeBT",
        "colab_type": "code",
        "colab": {}
      },
      "source": [
        "dataiter = iter(testloader)\n",
        "# Carrega 4 imagens por default\n",
        "images, labels = dataiter.next()\n"
      ],
      "execution_count": 0,
      "outputs": []
    },
    {
      "cell_type": "code",
      "metadata": {
        "id": "bJpTn8PJxeBV",
        "colab_type": "code",
        "colab": {}
      },
      "source": [
        "outputs = net(images)\n",
        "print(outputs)"
      ],
      "execution_count": 0,
      "outputs": []
    },
    {
      "cell_type": "code",
      "metadata": {
        "id": "qOfrj5gWxeBX",
        "colab_type": "code",
        "colab": {}
      },
      "source": [
        "probabilities=torch.exp(outputs)\n",
        "line_sum=probabilities.sum(1).unsqueeze(0).transpose(0,1)\n",
        "probabilities=100*(probabilities/line_sum)\n"
      ],
      "execution_count": 0,
      "outputs": []
    },
    {
      "cell_type": "code",
      "metadata": {
        "id": "pbf0szVVxeBZ",
        "colab_type": "code",
        "colab": {}
      },
      "source": [
        "def plot_classes(probabilities):\n",
        "    fig = plt.figure()\n",
        "    ax = fig.add_subplot(111)\n",
        "    ax.barh(y=[i for i in range(0,probabilities.size(0))],\n",
        "            width=[probabilities[i] for i in range(0,probabilities.size(0)) ],\n",
        "           tick_label= classes)\n",
        "    ax.tick_params(axis='x', colors='white')\n",
        "    ax.tick_params(axis='y', colors='white')\n",
        "    plt.show()\n",
        "    "
      ],
      "execution_count": 0,
      "outputs": []
    },
    {
      "cell_type": "code",
      "metadata": {
        "id": "vb0Kc0SGxeBb",
        "colab_type": "code",
        "colab": {}
      },
      "source": [
        "def show_output(n):\n",
        "    imshow(torchvision.utils.make_grid(images[n]))\n",
        "    print(\"Ground truth: \"+classes[labels[n]])\n",
        "    plot_classes(probabilities[n].detach())\n",
        " \n",
        "for i in range(0,4):\n",
        "    show_output(i)"
      ],
      "execution_count": 0,
      "outputs": []
    },
    {
      "cell_type": "markdown",
      "metadata": {
        "id": "8mBMjbCh3NPA",
        "colab_type": "text"
      },
      "source": [
        "### Calculando acuracia"
      ]
    },
    {
      "cell_type": "code",
      "metadata": {
        "id": "p228xl9uxeBf",
        "colab_type": "code",
        "colab": {}
      },
      "source": [
        "correct = 0\n",
        "total = 0\n",
        "with torch.no_grad():\n",
        "    for data in testloader:\n",
        "        images, labels = data\n",
        "        outputs = net(images)\n",
        "        _, predicted = torch.max(outputs.data, 1)\n",
        "        total += labels.size(0)\n",
        "        correct += (predicted == labels).sum().item()\n",
        "\n",
        "print('Accuracy of the network on the 10000 test images: %d %%' % (\n",
        "    100 * correct / total))"
      ],
      "execution_count": 0,
      "outputs": []
    },
    {
      "cell_type": "code",
      "metadata": {
        "id": "eEchBwTqxeBi",
        "colab_type": "code",
        "colab": {}
      },
      "source": [
        "class_correct = list(0. for i in range(10))\n",
        "class_total = list(0. for i in range(10))\n",
        "with torch.no_grad():\n",
        "    for data in testloader:\n",
        "        images, labels = data\n",
        "        outputs = net(images)\n",
        "        _, predicted = torch.max(outputs, 1)\n",
        "        c = (predicted == labels).squeeze()\n",
        "        for i in range(4):\n",
        "            label = labels[i]\n",
        "            class_correct[label] += c[i].item()\n",
        "            class_total[label] += 1\n",
        "\n",
        "\n",
        "for i in range(10):\n",
        "    print('Accuracy of %5s : %2d %%' % (\n",
        "        classes[i], 100 * class_correct[i] / class_total[i]))"
      ],
      "execution_count": 0,
      "outputs": []
    },
    {
      "cell_type": "markdown",
      "metadata": {
        "id": "UqfXJCSSxeBn",
        "colab_type": "text"
      },
      "source": [
        "## Treinando na GPU\n"
      ]
    },
    {
      "cell_type": "code",
      "metadata": {
        "id": "Ed_uzisSxeBo",
        "colab_type": "code",
        "colab": {}
      },
      "source": [
        "device = torch.device(\"cuda:0\" if torch.cuda.is_available() else \"cpu\")\n",
        "\n",
        "print(device)"
      ],
      "execution_count": 0,
      "outputs": []
    },
    {
      "cell_type": "markdown",
      "metadata": {
        "id": "sZBIN7gSxeBr",
        "colab_type": "text"
      },
      "source": [
        "Enviando modelos para a GPU:\n",
        "\n",
        "    inputs, labels = inputs.to(device), labels.to(device)\n",
        "    net.to(device)\n",
        "\n",
        "       \n"
      ]
    }
  ]
}